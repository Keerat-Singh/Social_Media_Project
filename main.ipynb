{
 "cells": [
  {
   "cell_type": "code",
   "execution_count": 1,
   "metadata": {},
   "outputs": [],
   "source": [
    "import numpy as np\n",
    "import pandas as pd"
   ]
  },
  {
   "cell_type": "code",
   "execution_count": 2,
   "metadata": {},
   "outputs": [
    {
     "data": {
      "text/html": [
       "<div>\n",
       "<style scoped>\n",
       "    .dataframe tbody tr th:only-of-type {\n",
       "        vertical-align: middle;\n",
       "    }\n",
       "\n",
       "    .dataframe tbody tr th {\n",
       "        vertical-align: top;\n",
       "    }\n",
       "\n",
       "    .dataframe thead th {\n",
       "        text-align: right;\n",
       "    }\n",
       "</style>\n",
       "<table border=\"1\" class=\"dataframe\">\n",
       "  <thead>\n",
       "    <tr style=\"text-align: right;\">\n",
       "      <th></th>\n",
       "      <th>Unnamed: 0</th>\n",
       "      <th>Toy Story (1995)</th>\n",
       "      <th>GoldenEye (1995)</th>\n",
       "      <th>Four Rooms (1995)</th>\n",
       "      <th>Get Shorty (1995)</th>\n",
       "      <th>Copycat (1995)</th>\n",
       "      <th>Shanghai Triad (Yao a yao yao dao waipo qiao) (1995)</th>\n",
       "      <th>Twelve Monkeys (1995)</th>\n",
       "      <th>Babe (1995)</th>\n",
       "      <th>Dead Man Walking (1995)</th>\n",
       "      <th>...</th>\n",
       "      <th>Kika (1993)</th>\n",
       "      <th>Mirage (1995)</th>\n",
       "      <th>Mamma Roma (1962)</th>\n",
       "      <th>Sunchaser, The (1996)</th>\n",
       "      <th>War at Home, The (1996)</th>\n",
       "      <th>Sweet Nothing (1995)</th>\n",
       "      <th>Mat' i syn (1997)</th>\n",
       "      <th>B. Monkey (1998)</th>\n",
       "      <th>You So Crazy (1994)</th>\n",
       "      <th>Scream of Stone (Schrei aus Stein) (1991)</th>\n",
       "    </tr>\n",
       "  </thead>\n",
       "  <tbody>\n",
       "    <tr>\n",
       "      <th>0</th>\n",
       "      <td>0</td>\n",
       "      <td>{'content': \"Andy's toys live a reasonable lif...</td>\n",
       "      <td>{'content': 'Brosnan has the look, the style, ...</td>\n",
       "      <td>{'content': \"It's a pity that the critics gave...</td>\n",
       "      <td>{'content': \"Barry Sonnenfeld was and maybe wa...</td>\n",
       "      <td>{'content': 'In San Francisco, the criminal ps...</td>\n",
       "      <td>{'content': 'Here\\'s something you don\\'t see ...</td>\n",
       "      <td>{'content': \"Just kidding, I rented 12 Monkeys...</td>\n",
       "      <td>{'content': 'When this came out -- years ago, ...</td>\n",
       "      <td>{'content': \"Tim Robbins's 'Dead Man Walking' ...</td>\n",
       "      <td>...</td>\n",
       "      <td>{'content': 'Maybe this isn\\'t as good as the ...</td>\n",
       "      <td>{'content': \"I guess this is one where you hav...</td>\n",
       "      <td>{'content': \"Mama Roma, played by an amazing A...</td>\n",
       "      <td>{'content': 'Michael Cimino\\'s final film \"The...</td>\n",
       "      <td>{'content': 'I caught this movie on TV yesterd...</td>\n",
       "      <td>{'content': \"As several reviews of this film n...</td>\n",
       "      <td>{'content': \"Aleksandr Sokurov in MAT I SYN (M...</td>\n",
       "      <td>{'content': 'This was Michael Radford\\'s first...</td>\n",
       "      <td>{'content': \"Man, when you thought that stand ...</td>\n",
       "      <td>{'content': \"This is probably one of Herzog's ...</td>\n",
       "    </tr>\n",
       "    <tr>\n",
       "      <th>1</th>\n",
       "      <td>1</td>\n",
       "      <td>{'content': 'This is a very clever animated st...</td>\n",
       "      <td>{'content': 'GoldenEye (1995) is my number 1 p...</td>\n",
       "      <td>{'content': 'Four Rooms was concocted like one...</td>\n",
       "      <td>{'content': \"Spoilers herein.I do not expect H...</td>\n",
       "      <td>{'content': 'The serial killer genre is one th...</td>\n",
       "      <td>{'content': \"This is a fine movie - wonderfull...</td>\n",
       "      <td>{'content': 'In the future humans exist underg...</td>\n",
       "      <td>{'content': \"Remember the times when a parent ...</td>\n",
       "      <td>{'content': 'I haven\\'t seen many films that r...</td>\n",
       "      <td>...</td>\n",
       "      <td>{'content': \"Kika is a movie whose plot sounds...</td>\n",
       "      <td>{'content': 'If you\\'ve ever wondered what \"Ve...</td>\n",
       "      <td>{'content': 'Mamma Roma, not released in the U...</td>\n",
       "      <td>{'content': \"I just caught this on my TV. It i...</td>\n",
       "      <td>{'content': 'The most intense and powerful fil...</td>\n",
       "      <td>{'content': 'I noticed, in the credits, that t...</td>\n",
       "      <td>{'content': \"This relatively short film is abo...</td>\n",
       "      <td>{'content': '\"Nineteen Eighty Four\" director M...</td>\n",
       "      <td>{'content': 'These projects have three compone...</td>\n",
       "      <td>{'content': 'Donald Sutherland plays a news re...</td>\n",
       "    </tr>\n",
       "    <tr>\n",
       "      <th>2</th>\n",
       "      <td>2</td>\n",
       "      <td>{'content': 'I am a big fan of the animated mo...</td>\n",
       "      <td>{'content': \"GoldenEye is entertainment, not a...</td>\n",
       "      <td>{'content': 'It\\'s impossible to analyze this ...</td>\n",
       "      <td>{'content': 'John Travolta followed up his \"Pu...</td>\n",
       "      <td>{'content': 'Contrary to what several users ha...</td>\n",
       "      <td>{'content': 'This could be an American gangste...</td>\n",
       "      <td>{'content': 'In 1996, a deadly virus is releas...</td>\n",
       "      <td>{'content': \"I think genre preferences go out ...</td>\n",
       "      <td>{'content': '\\'It\\'s easy to kill a monster, b...</td>\n",
       "      <td>...</td>\n",
       "      <td>{'content': 'This was one of the funniest come...</td>\n",
       "      <td>{'content': 'This movie was so bad it was funn...</td>\n",
       "      <td>{'content': \"Mamma Roma could be Pasolini's be...</td>\n",
       "      <td>{'content': \"SunChaser is a kind of movie you ...</td>\n",
       "      <td>{'content': \"I have seen only a few films whic...</td>\n",
       "      <td>{'content': 'Without Mira Sorvino, Paul Calder...</td>\n",
       "      <td>{'content': 'After opening with a distorted ta...</td>\n",
       "      <td>{'content': 'This movie is basically carried b...</td>\n",
       "      <td>{'content': \"Many people find Stand-up comedie...</td>\n",
       "      <td>{'content': 'Or maybe it is the best. Characte...</td>\n",
       "    </tr>\n",
       "    <tr>\n",
       "      <th>3</th>\n",
       "      <td>3</td>\n",
       "      <td>{'content': \"Toy Story – 5/5 starsChildren pla...</td>\n",
       "      <td>{'content': \"World security is in danger , ¨Ja...</td>\n",
       "      <td>{'content': '\"Four Rooms\" is far more entertai...</td>\n",
       "      <td>{'content': 'Elmore Leonard\\'s books must be l...</td>\n",
       "      <td>{'content': 'Definitely a film that will have ...</td>\n",
       "      <td>{'content': \"The big plus here is in the visua...</td>\n",
       "      <td>{'content': 'Terry Gilliam\\'s fantastic, twist...</td>\n",
       "      <td>{'content': \"Babe is separated from his family...</td>\n",
       "      <td>{'content': \"Tim Robbins did a masterful job d...</td>\n",
       "      <td>...</td>\n",
       "      <td>{'content': 'What everyone in the press seemed...</td>\n",
       "      <td>{'content': 'Edward James Olmos plays a former...</td>\n",
       "      <td>{'content': 'Mamma Roma(1962) is one of the be...</td>\n",
       "      <td>{'content': \"Brandon 'Blue' Monroe is only 16,...</td>\n",
       "      <td>{'content': \"I was just lucky I found this mov...</td>\n",
       "      <td>{'content': \"I literally looked everywhere for...</td>\n",
       "      <td>{'content': 'I\\'ve never seen a film like Moth...</td>\n",
       "      <td>{'content': 'I love this movie like it\\'s a wo...</td>\n",
       "      <td>{'content': \"I laughed through the whole thing...</td>\n",
       "      <td>{'content': 'Brad Dourif (Billy in Cukoo\\'s Ne...</td>\n",
       "    </tr>\n",
       "    <tr>\n",
       "      <th>4</th>\n",
       "      <td>4</td>\n",
       "      <td>{'content': \"Toy Story is a sheer delight to v...</td>\n",
       "      <td>{'content': \"One of my favourite quotes from t...</td>\n",
       "      <td>{'content': \"I really don't understand why thi...</td>\n",
       "      <td>{'content': 'Smart, funny mobster comedy/satir...</td>\n",
       "      <td>{'content': \"I watched this movie for the firs...</td>\n",
       "      <td>{'content': 'A young boy is brought to 1930\\'s...</td>\n",
       "      <td>{'content': '\"Twelve monkeys\"\\'s got all the e...</td>\n",
       "      <td>{'content': 'This is a family film in the clas...</td>\n",
       "      <td>{'content': \"Him, along with certain actors ar...</td>\n",
       "      <td>...</td>\n",
       "      <td>{'content': 'Almodóvar does Fellini? Well, tha...</td>\n",
       "      <td>{'content': 'First of all, wtf with lead actor...</td>\n",
       "      <td>{'content': 'If Sarah Palin wants to support w...</td>\n",
       "      <td>{'content': \"1st watched 7/4/1998 - 8 out of 1...</td>\n",
       "      <td>{'content': '\"The War at Home\" was a labor of ...</td>\n",
       "      <td>{'content': 'I caught this one on cable during...</td>\n",
       "      <td>{'content': 'In just over an hour, Sokurov ach...</td>\n",
       "      <td>{'content': 'Alan Furnace is a school teacher ...</td>\n",
       "      <td>{'content': '\"You So Crazy\" has to be one of t...</td>\n",
       "      <td>{'content': 'This movie left me with mixed fee...</td>\n",
       "    </tr>\n",
       "  </tbody>\n",
       "</table>\n",
       "<p>5 rows × 1665 columns</p>\n",
       "</div>"
      ],
      "text/plain": [
       "   Unnamed: 0                                   Toy Story (1995)  \\\n",
       "0           0  {'content': \"Andy's toys live a reasonable lif...   \n",
       "1           1  {'content': 'This is a very clever animated st...   \n",
       "2           2  {'content': 'I am a big fan of the animated mo...   \n",
       "3           3  {'content': \"Toy Story – 5/5 starsChildren pla...   \n",
       "4           4  {'content': \"Toy Story is a sheer delight to v...   \n",
       "\n",
       "                                    GoldenEye (1995)  \\\n",
       "0  {'content': 'Brosnan has the look, the style, ...   \n",
       "1  {'content': 'GoldenEye (1995) is my number 1 p...   \n",
       "2  {'content': \"GoldenEye is entertainment, not a...   \n",
       "3  {'content': \"World security is in danger , ¨Ja...   \n",
       "4  {'content': \"One of my favourite quotes from t...   \n",
       "\n",
       "                                   Four Rooms (1995)  \\\n",
       "0  {'content': \"It's a pity that the critics gave...   \n",
       "1  {'content': 'Four Rooms was concocted like one...   \n",
       "2  {'content': 'It\\'s impossible to analyze this ...   \n",
       "3  {'content': '\"Four Rooms\" is far more entertai...   \n",
       "4  {'content': \"I really don't understand why thi...   \n",
       "\n",
       "                                   Get Shorty (1995)  \\\n",
       "0  {'content': \"Barry Sonnenfeld was and maybe wa...   \n",
       "1  {'content': \"Spoilers herein.I do not expect H...   \n",
       "2  {'content': 'John Travolta followed up his \"Pu...   \n",
       "3  {'content': 'Elmore Leonard\\'s books must be l...   \n",
       "4  {'content': 'Smart, funny mobster comedy/satir...   \n",
       "\n",
       "                                      Copycat (1995)  \\\n",
       "0  {'content': 'In San Francisco, the criminal ps...   \n",
       "1  {'content': 'The serial killer genre is one th...   \n",
       "2  {'content': 'Contrary to what several users ha...   \n",
       "3  {'content': 'Definitely a film that will have ...   \n",
       "4  {'content': \"I watched this movie for the firs...   \n",
       "\n",
       "  Shanghai Triad (Yao a yao yao dao waipo qiao) (1995)  \\\n",
       "0  {'content': 'Here\\'s something you don\\'t see ...     \n",
       "1  {'content': \"This is a fine movie - wonderfull...     \n",
       "2  {'content': 'This could be an American gangste...     \n",
       "3  {'content': \"The big plus here is in the visua...     \n",
       "4  {'content': 'A young boy is brought to 1930\\'s...     \n",
       "\n",
       "                               Twelve Monkeys (1995)  \\\n",
       "0  {'content': \"Just kidding, I rented 12 Monkeys...   \n",
       "1  {'content': 'In the future humans exist underg...   \n",
       "2  {'content': 'In 1996, a deadly virus is releas...   \n",
       "3  {'content': 'Terry Gilliam\\'s fantastic, twist...   \n",
       "4  {'content': '\"Twelve monkeys\"\\'s got all the e...   \n",
       "\n",
       "                                         Babe (1995)  \\\n",
       "0  {'content': 'When this came out -- years ago, ...   \n",
       "1  {'content': \"Remember the times when a parent ...   \n",
       "2  {'content': \"I think genre preferences go out ...   \n",
       "3  {'content': \"Babe is separated from his family...   \n",
       "4  {'content': 'This is a family film in the clas...   \n",
       "\n",
       "                             Dead Man Walking (1995)  ...  \\\n",
       "0  {'content': \"Tim Robbins's 'Dead Man Walking' ...  ...   \n",
       "1  {'content': 'I haven\\'t seen many films that r...  ...   \n",
       "2  {'content': '\\'It\\'s easy to kill a monster, b...  ...   \n",
       "3  {'content': \"Tim Robbins did a masterful job d...  ...   \n",
       "4  {'content': \"Him, along with certain actors ar...  ...   \n",
       "\n",
       "                                         Kika (1993)  \\\n",
       "0  {'content': 'Maybe this isn\\'t as good as the ...   \n",
       "1  {'content': \"Kika is a movie whose plot sounds...   \n",
       "2  {'content': 'This was one of the funniest come...   \n",
       "3  {'content': 'What everyone in the press seemed...   \n",
       "4  {'content': 'Almodóvar does Fellini? Well, tha...   \n",
       "\n",
       "                                       Mirage (1995)  \\\n",
       "0  {'content': \"I guess this is one where you hav...   \n",
       "1  {'content': 'If you\\'ve ever wondered what \"Ve...   \n",
       "2  {'content': 'This movie was so bad it was funn...   \n",
       "3  {'content': 'Edward James Olmos plays a former...   \n",
       "4  {'content': 'First of all, wtf with lead actor...   \n",
       "\n",
       "                                   Mamma Roma (1962)  \\\n",
       "0  {'content': \"Mama Roma, played by an amazing A...   \n",
       "1  {'content': 'Mamma Roma, not released in the U...   \n",
       "2  {'content': \"Mamma Roma could be Pasolini's be...   \n",
       "3  {'content': 'Mamma Roma(1962) is one of the be...   \n",
       "4  {'content': 'If Sarah Palin wants to support w...   \n",
       "\n",
       "                               Sunchaser, The (1996)  \\\n",
       "0  {'content': 'Michael Cimino\\'s final film \"The...   \n",
       "1  {'content': \"I just caught this on my TV. It i...   \n",
       "2  {'content': \"SunChaser is a kind of movie you ...   \n",
       "3  {'content': \"Brandon 'Blue' Monroe is only 16,...   \n",
       "4  {'content': \"1st watched 7/4/1998 - 8 out of 1...   \n",
       "\n",
       "                             War at Home, The (1996)  \\\n",
       "0  {'content': 'I caught this movie on TV yesterd...   \n",
       "1  {'content': 'The most intense and powerful fil...   \n",
       "2  {'content': \"I have seen only a few films whic...   \n",
       "3  {'content': \"I was just lucky I found this mov...   \n",
       "4  {'content': '\"The War at Home\" was a labor of ...   \n",
       "\n",
       "                                Sweet Nothing (1995)  \\\n",
       "0  {'content': \"As several reviews of this film n...   \n",
       "1  {'content': 'I noticed, in the credits, that t...   \n",
       "2  {'content': 'Without Mira Sorvino, Paul Calder...   \n",
       "3  {'content': \"I literally looked everywhere for...   \n",
       "4  {'content': 'I caught this one on cable during...   \n",
       "\n",
       "                                   Mat' i syn (1997)  \\\n",
       "0  {'content': \"Aleksandr Sokurov in MAT I SYN (M...   \n",
       "1  {'content': \"This relatively short film is abo...   \n",
       "2  {'content': 'After opening with a distorted ta...   \n",
       "3  {'content': 'I\\'ve never seen a film like Moth...   \n",
       "4  {'content': 'In just over an hour, Sokurov ach...   \n",
       "\n",
       "                                    B. Monkey (1998)  \\\n",
       "0  {'content': 'This was Michael Radford\\'s first...   \n",
       "1  {'content': '\"Nineteen Eighty Four\" director M...   \n",
       "2  {'content': 'This movie is basically carried b...   \n",
       "3  {'content': 'I love this movie like it\\'s a wo...   \n",
       "4  {'content': 'Alan Furnace is a school teacher ...   \n",
       "\n",
       "                                 You So Crazy (1994)  \\\n",
       "0  {'content': \"Man, when you thought that stand ...   \n",
       "1  {'content': 'These projects have three compone...   \n",
       "2  {'content': \"Many people find Stand-up comedie...   \n",
       "3  {'content': \"I laughed through the whole thing...   \n",
       "4  {'content': '\"You So Crazy\" has to be one of t...   \n",
       "\n",
       "           Scream of Stone (Schrei aus Stein) (1991)  \n",
       "0  {'content': \"This is probably one of Herzog's ...  \n",
       "1  {'content': 'Donald Sutherland plays a news re...  \n",
       "2  {'content': 'Or maybe it is the best. Characte...  \n",
       "3  {'content': 'Brad Dourif (Billy in Cukoo\\'s Ne...  \n",
       "4  {'content': 'This movie left me with mixed fee...  \n",
       "\n",
       "[5 rows x 1665 columns]"
      ]
     },
     "execution_count": 2,
     "metadata": {},
     "output_type": "execute_result"
    }
   ],
   "source": [
    "df = pd.read_csv('./movie_review.csv')\n",
    "df.head()"
   ]
  },
  {
   "cell_type": "code",
   "execution_count": 3,
   "metadata": {},
   "outputs": [],
   "source": [
    "columns = df.columns"
   ]
  },
  {
   "cell_type": "code",
   "execution_count": 19,
   "metadata": {},
   "outputs": [
    {
     "data": {
      "text/plain": [
       "'0     {\\'content\\': \"Andy\\'s toys live a reasonable lif...\\n1     {\\'content\\': \\'This is a very clever animated st...\\n2     {\\'content\\': \\'I am a big fan of the animated mo...\\n3     {\\'content\\': \"Toy Story – 5/5 starsChildren pla...\\n4     {\\'content\\': \"Toy Story is a sheer delight to v...\\n5     {\\'content\\': \\'\"I believe that a filmmaker\\\\\\'s en...\\n6     {\\'content\\': \\'Y\\\\\\'know, I always suspected that ...\\n7     {\\'content\\': \\'What a wonderful integration of c...\\n8     {\\'content\\': \\'This is as close to perfection as...\\n9     {\\'content\\': \"Toy Story is not only the best Di...\\n10    {\\'content\\': \\'With the wonderful collaboration ...\\n11    {\\'content\\': \"Though I am not a big fan of comp...\\n12    {\\'content\\': \\'Toy Story is one of my favourite ...\\n13    {\\'content\\': \"I remember seeing this film at th...\\n14    {\\'content\\': \\'I\\\\\\'m 19, going on 20 in six days....\\n15    {\\'content\\': \"The first feature length Pixar fi...\\n16    {\\'content\\': \\'Just in case you were also wonder...\\n17    {\\'content\\': \"Toy Story is one of those rare an...\\n18    {\\'content\\': \\'Toy Story is the film that starte...\\n19    {\\'content\\': \\'Toy Story is just a wonderful fil...\\n20    {\\'content\\': \"I re-watched this for the first t...\\n21    {\\'content\\': \\'Disney and Pixar studios team up ...\\n22    {\\'content\\': \"A wonderfully sculpted piece of f...\\n23    {\\'content\\': \\'This was the very first computer ...\\n24                                                  NaN'"
      ]
     },
     "execution_count": 19,
     "metadata": {},
     "output_type": "execute_result"
    }
   ],
   "source": []
  },
  {
   "cell_type": "code",
   "execution_count": 22,
   "metadata": {},
   "outputs": [],
   "source": [
    "exists_in_columns = []\n",
    "for i in columns:\n",
    "    if 'KeyError' in df[i].to_string():\n",
    "        exists_in_columns.append(i)"
   ]
  },
  {
   "cell_type": "code",
   "execution_count": 24,
   "metadata": {},
   "outputs": [
    {
     "data": {
      "text/plain": [
       "43"
      ]
     },
     "execution_count": 24,
     "metadata": {},
     "output_type": "execute_result"
    }
   ],
   "source": [
    "len(exists_in_columns)"
   ]
  },
  {
   "cell_type": "code",
   "execution_count": 25,
   "metadata": {},
   "outputs": [
    {
     "data": {
      "text/plain": [
       "['Seven (Se7en) (1995)',\n",
       " 'Wallace & Gromit: The Best of Aardman Animation (1996)',\n",
       " 'Independence Day (ID4) (1996)',\n",
       " \"Monty Python's Life of Brian (1979)\",\n",
       " 'Army of Darkness (1993)',\n",
       " 'Right Stuff, The (1983)',\n",
       " 'Nikita (La Femme Nikita) (1990)',\n",
       " 'Prophecy II, The (1998)',\n",
       " 'Blues Brothers 2000 (1998)',\n",
       " 'Tales from the Crypt Presents: Bordello of Blood (1996)',\n",
       " 'Heathers (1989)',\n",
       " 'Amityville Curse, The (1990)',\n",
       " 'Body Snatcher, The (1945)',\n",
       " \"Mary Shelley's Frankenstein (1994)\",\n",
       " 'Three Caballeros, The (1945)',\n",
       " 'So Dear to My Heart (1949)',\n",
       " 'Blood Beach (1981)',\n",
       " 'Fire on the Mountain (1996)',\n",
       " 'In the Mouth of Madness (1995)',\n",
       " 'Loch Ness (1995)',\n",
       " 'Shaggy Dog, The (1959)',\n",
       " 'Vermin (1998)',\n",
       " 'Inspector General, The (1949)',\n",
       " 'Grateful Dead (1995)',\n",
       " 'Lay of the Land, The (1997)',\n",
       " 'Cemetery Man (Dellamorte Dellamore) (1994)',\n",
       " 'Marlene Dietrich: Shadow and Light (1996) ',\n",
       " 'Contempt (Mépris, Le) (1963)',\n",
       " 'Talking About Sex (1994)',\n",
       " 'Denise Calls Up (1995)',\n",
       " 'Pompatus of Love, The (1996)',\n",
       " 'Every Other Weekend (1990)',\n",
       " 'Boys in Venice (1996)',\n",
       " 'Stranger, The (1994)',\n",
       " 'Anna (1996)',\n",
       " 'Caro Diario (Dear Diary) (1994)',\n",
       " 'Little Princess, The (1939)',\n",
       " 'Farmer & Chase (1995)',\n",
       " 'Santa with Muscles (1996)',\n",
       " 'Bewegte Mann, Der (1994)',\n",
       " 'Shadows (Cienie) (1988)',\n",
       " 'Brothers in Trouble (1995)',\n",
       " 'MURDER and murder (1996)']"
      ]
     },
     "execution_count": 25,
     "metadata": {},
     "output_type": "execute_result"
    }
   ],
   "source": [
    "exists_in_columns"
   ]
  },
  {
   "cell_type": "code",
   "execution_count": 26,
   "metadata": {},
   "outputs": [],
   "source": [
    "data_access_error_in_columns = []\n",
    "for i in columns:\n",
    "    if 'IMDbDataAccessError' in df[i].to_string():\n",
    "        data_access_error_in_columns.append(i)"
   ]
  },
  {
   "cell_type": "code",
   "execution_count": 27,
   "metadata": {},
   "outputs": [
    {
     "data": {
      "text/plain": [
       "8"
      ]
     },
     "execution_count": 27,
     "metadata": {},
     "output_type": "execute_result"
    }
   ],
   "source": [
    "len(data_access_error_in_columns)"
   ]
  },
  {
   "cell_type": "code",
   "execution_count": 28,
   "metadata": {},
   "outputs": [
    {
     "data": {
      "text/plain": [
       "['Apocalypse Now (1979)',\n",
       " 'Groundhog Day (1993)',\n",
       " 'Absolute Power (1997)',\n",
       " 'Somewhere in Time (1980)',\n",
       " 'Lost in Space (1998)',\n",
       " \"Fathers' Day (1997)\",\n",
       " 'My Family (1995)',\n",
       " 'Guilty as Sin (1993)']"
      ]
     },
     "execution_count": 28,
     "metadata": {},
     "output_type": "execute_result"
    }
   ],
   "source": [
    "data_access_error_in_columns"
   ]
  },
  {
   "cell_type": "code",
   "execution_count": 31,
   "metadata": {},
   "outputs": [],
   "source": [
    "df.drop(columns=exists_in_columns+data_access_error_in_columns, inplace=True)"
   ]
  },
  {
   "cell_type": "code",
   "execution_count": 32,
   "metadata": {},
   "outputs": [
    {
     "data": {
      "text/plain": [
       "(25, 1614)"
      ]
     },
     "execution_count": 32,
     "metadata": {},
     "output_type": "execute_result"
    }
   ],
   "source": [
    "df.shape"
   ]
  },
  {
   "cell_type": "code",
   "execution_count": 34,
   "metadata": {},
   "outputs": [
    {
     "name": "stdout",
     "output_type": "stream",
     "text": [
      "<class 'pandas.core.frame.DataFrame'>\n",
      "RangeIndex: 25 entries, 0 to 24\n",
      "Columns: 1614 entries, Unnamed: 0 to Scream of Stone (Schrei aus Stein) (1991)\n",
      "dtypes: int64(1), object(1613)\n",
      "memory usage: 315.4+ KB\n"
     ]
    }
   ],
   "source": [
    "df.info()"
   ]
  },
  {
   "cell_type": "code",
   "execution_count": 41,
   "metadata": {},
   "outputs": [
    {
     "data": {
      "text/plain": [
       "24"
      ]
     },
     "execution_count": 41,
     "metadata": {},
     "output_type": "execute_result"
    }
   ],
   "source": [
    "df.isna().sum().max()"
   ]
  },
  {
   "cell_type": "code",
   "execution_count": 47,
   "metadata": {},
   "outputs": [],
   "source": [
    "df.drop(columns=columns[0], inplace=True)"
   ]
  },
  {
   "cell_type": "code",
   "execution_count": 52,
   "metadata": {},
   "outputs": [
    {
     "data": {
      "text/plain": [
       "'{\\'content\\': \"Andy\\'s toys live a reasonable life of fun and peace, their only worries are birthdays and Christmases, when new toys could easily replace those already there. One such birthday Andy\\'s top toy, Woody the cowboy, finds himself in direct competition with Andy\\'s new Buzz Lightyear doll. When rivalries boil over Woody tries to hide Buzz down the side of the bed but accidentally pushes him out the window, the other tops expel Woody, and he leaves with no choice but to find Buzz and return him to the house. But with only two days before Andy moves house, time is of the essence.Given how often the same mix of animation, wit, jokes and kids humour has been used since Toy Story (Ice Age, Monsters Inc, Bugs Life) it is easy to forget how refreshing it was when it first came out. I have just watched it again and it is dating a little in comparison to more recent twists on the formula. It seems each one has to be sharper and have more references etc in the background. However it is still very funny and deserves praise for being the first of a successful formula.The plot is simple but effective and actually has genuine drama and excitement to it. The main story is fun but the degree of character development is what really shores it up. The conflict between Buzz and Woody is taken deeper than this and, when confronted by the truth of his status as a toy, Buzz\\'s turmoil is very real as opposed to him being a cartoon character and nothing more. Despite the two strong leads there is a real depth in the support cast. They may not actually have that many lines, but they have all the funniest lines. Most of the `adult\\' wit comes from the Potato Head, dinosaur, the pig and slinky dog. They are funny and are very well used. In fact the majority of this humour and plot will go right over kids heads.Looking back on it, I do feel a cynical edge on it in so much as this film must really have helped sales of the toy companies in the film. It\\'s hard not to see the marketing department standing behind this film rubbing their hands. However the actual product is so wonderfully fun that I forgot this quickly. The voice work is excellent and the characters match the actors. Hanks is good as Woody and Allen has a good B-movie type voice for Buzz. Varney, Ratzenberger, Ermey (doing his usual), Rickles and others are all really good in the support roles and, probably, come out as the favourite characters for adults.Overall this is a classic film that will appeal to adults as much as to kids (if not more). A good plot and a really sharp script make the already short running time fly by. The only downside is that your kids will want you to go out and buy the damn things!\", \\'helpful\\': 129, \\'title\\': \\'Technically impressive with great script and sharp wit\\', \\'author\\': \\'ur1002035\\', \\'date\\': \\'22 April 2003\\', \\'rating\\': None, \\'not_helpful\\': 9}'"
      ]
     },
     "execution_count": 52,
     "metadata": {},
     "output_type": "execute_result"
    }
   ],
   "source": [
    "df['Toy Story (1995)'][0]"
   ]
  },
  {
   "cell_type": "code",
   "execution_count": 55,
   "metadata": {},
   "outputs": [],
   "source": [
    "import ast"
   ]
  },
  {
   "cell_type": "code",
   "execution_count": 56,
   "metadata": {},
   "outputs": [
    {
     "data": {
      "text/plain": [
       "{'content': \"Andy's toys live a reasonable life of fun and peace, their only worries are birthdays and Christmases, when new toys could easily replace those already there. One such birthday Andy's top toy, Woody the cowboy, finds himself in direct competition with Andy's new Buzz Lightyear doll. When rivalries boil over Woody tries to hide Buzz down the side of the bed but accidentally pushes him out the window, the other tops expel Woody, and he leaves with no choice but to find Buzz and return him to the house. But with only two days before Andy moves house, time is of the essence.Given how often the same mix of animation, wit, jokes and kids humour has been used since Toy Story (Ice Age, Monsters Inc, Bugs Life) it is easy to forget how refreshing it was when it first came out. I have just watched it again and it is dating a little in comparison to more recent twists on the formula. It seems each one has to be sharper and have more references etc in the background. However it is still very funny and deserves praise for being the first of a successful formula.The plot is simple but effective and actually has genuine drama and excitement to it. The main story is fun but the degree of character development is what really shores it up. The conflict between Buzz and Woody is taken deeper than this and, when confronted by the truth of his status as a toy, Buzz's turmoil is very real as opposed to him being a cartoon character and nothing more. Despite the two strong leads there is a real depth in the support cast. They may not actually have that many lines, but they have all the funniest lines. Most of the `adult' wit comes from the Potato Head, dinosaur, the pig and slinky dog. They are funny and are very well used. In fact the majority of this humour and plot will go right over kids heads.Looking back on it, I do feel a cynical edge on it in so much as this film must really have helped sales of the toy companies in the film. It's hard not to see the marketing department standing behind this film rubbing their hands. However the actual product is so wonderfully fun that I forgot this quickly. The voice work is excellent and the characters match the actors. Hanks is good as Woody and Allen has a good B-movie type voice for Buzz. Varney, Ratzenberger, Ermey (doing his usual), Rickles and others are all really good in the support roles and, probably, come out as the favourite characters for adults.Overall this is a classic film that will appeal to adults as much as to kids (if not more). A good plot and a really sharp script make the already short running time fly by. The only downside is that your kids will want you to go out and buy the damn things!\",\n",
       " 'helpful': 129,\n",
       " 'title': 'Technically impressive with great script and sharp wit',\n",
       " 'author': 'ur1002035',\n",
       " 'date': '22 April 2003',\n",
       " 'rating': None,\n",
       " 'not_helpful': 9}"
      ]
     },
     "execution_count": 56,
     "metadata": {},
     "output_type": "execute_result"
    }
   ],
   "source": [
    "ast.literal_eval(df['Toy Story (1995)'][0])"
   ]
  },
  {
   "cell_type": "code",
   "execution_count": null,
   "metadata": {},
   "outputs": [],
   "source": []
  }
 ],
 "metadata": {
  "kernelspec": {
   "display_name": "Python 3",
   "language": "python",
   "name": "python3"
  },
  "language_info": {
   "codemirror_mode": {
    "name": "ipython",
    "version": 3
   },
   "file_extension": ".py",
   "mimetype": "text/x-python",
   "name": "python",
   "nbconvert_exporter": "python",
   "pygments_lexer": "ipython3",
   "version": "3.10.7"
  }
 },
 "nbformat": 4,
 "nbformat_minor": 2
}
